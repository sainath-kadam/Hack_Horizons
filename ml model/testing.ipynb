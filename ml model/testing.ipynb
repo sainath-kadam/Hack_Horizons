{
 "cells": [
  {
   "cell_type": "code",
   "execution_count": 13,
   "metadata": {},
   "outputs": [
    {
     "data": {
      "text/plain": [
       "{'prediction': 0.8358531919059867}"
      ]
     },
     "execution_count": 13,
     "metadata": {},
     "output_type": "execute_result"
    }
   ],
   "source": [
    "import requests\n",
    "\n",
    "data = {'gre_score': 320, 'toefl_score': 115, 'university_rating': 4, 'sop': 4.5, 'lor': 4.5, 'cgpa': 9.0, 'research': 1}\n",
    "response = requests.post('http://localhost:5000/predict_admission_api', json=data)\n",
    "\n",
    "response.json()"
   ]
  },
  {
   "cell_type": "code",
   "execution_count": 16,
   "metadata": {},
   "outputs": [
    {
     "name": "stdout",
     "output_type": "stream",
     "text": [
      "<Response [200]>\n"
     ]
    }
   ],
   "source": [
    "import requests\n",
    "\n",
    "url = 'http://localhost:5000/predict_placement'\n",
    "\n",
    "data = {\n",
    "    'gender': 'M',\n",
    "    'ssc_p': 72.0,\n",
    "    'ssc_b': 'Others',\n",
    "    'hsc_p': 63.0,\n",
    "    'hsc_b': 'Others',\n",
    "    'hsc_s': 'Commerce',\n",
    "    'degree_p': 65.0,\n",
    "    'degree_t': 'Sci&Tech',\n",
    "    'workex': 'Yes',\n",
    "    'etest_p': 68.0,\n",
    "    'specialisation': 'Mkt&HR',\n",
    "    'mba_p': 62.0\n",
    "}\n",
    "\n",
    "response = requests.post(url, data=data)\n",
    "\n",
    "print(response)\n"
   ]
  },
  {
   "cell_type": "code",
   "execution_count": null,
   "metadata": {},
   "outputs": [],
   "source": []
  }
 ],
 "metadata": {
  "kernelspec": {
   "display_name": "Python 3",
   "language": "python",
   "name": "python3"
  },
  "language_info": {
   "codemirror_mode": {
    "name": "ipython",
    "version": 3
   },
   "file_extension": ".py",
   "mimetype": "text/x-python",
   "name": "python",
   "nbconvert_exporter": "python",
   "pygments_lexer": "ipython3",
   "version": "3.10.4"
  },
  "orig_nbformat": 4
 },
 "nbformat": 4,
 "nbformat_minor": 2
}
